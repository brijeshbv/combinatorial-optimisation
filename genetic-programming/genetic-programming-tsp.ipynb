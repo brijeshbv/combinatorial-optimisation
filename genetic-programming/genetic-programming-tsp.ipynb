{
 "cells": [
  {
   "cell_type": "code",
   "execution_count": 28,
   "id": "9c4d0400",
   "metadata": {},
   "outputs": [],
   "source": [
    "import numpy as np\n",
    "import pandas as pd\n",
    "import random\n",
    "import operator\n",
    "import math\n",
    "import matplotlib.pyplot as plt"
   ]
  },
  {
   "cell_type": "code",
   "execution_count": 2,
   "id": "7f3f6a8e",
   "metadata": {},
   "outputs": [],
   "source": [
    "def load_data(file):\n",
    "\n",
    "    \"\"\"\n",
    "    Read a TSP instance from a .tsp file, and returns the coordinates.\n",
    "    :param file: the .tsp file.\n",
    "    :return: coordinates\n",
    "    \"\"\"\n",
    "\n",
    "    f = open(file, \"r\")\n",
    "    \n",
    "    # Skip the first information rows until \"NODE_COORD_SECTION\" is seen\n",
    "    line = f.readline()\n",
    "    while not line.__contains__(\"NODE_COORD_SECTION\"):\n",
    "        line = f.readline()\n",
    "\n",
    "    # Read the coordinate section\n",
    "    coord = {}\n",
    "\n",
    "    line = f.readline()\n",
    "    while not line.__contains__(\"EOF\"):\n",
    "        line_elements = line.split()\n",
    "        id = int(line_elements[0])\n",
    "        x = float(line_elements[1])\n",
    "        y = float(line_elements[2])\n",
    "        coord[id] = [x, y]\n",
    "        line = f.readline()\n",
    "\n",
    "    f.close()\n",
    "\n",
    "    return coord\n",
    "\n"
   ]
  },
  {
   "cell_type": "code",
   "execution_count": 3,
   "id": "d4e6e8a4",
   "metadata": {},
   "outputs": [],
   "source": [
    "def euclidean_distance_matrix(coord):\n",
    "    \"\"\"\n",
    "    Calculate the Euclidean distance matrix based on the coordinates.\n",
    "    \"\"\"\n",
    "    \n",
    "    id_list = list(coord.keys())\n",
    "    \n",
    "    dist_mtx = np.zeros((max(id_list)+1, max(id_list)+1))\n",
    "    for id1 in coord.keys():\n",
    "        [x1, y1] = coord[id1]\n",
    "        for id2 in coord.keys():\n",
    "            if id1 == id2:\n",
    "                continue\n",
    "            \n",
    "            [x2, y2] = coord[id2]\n",
    "            dist = round(math.sqrt((x2 - x1) * (x2 - x1) + (y2 - y1) * (y2 - y1)))\n",
    "            dist_mtx[id1, id2] = dist\n",
    "    \n",
    "    return dist_mtx"
   ]
  },
  {
   "cell_type": "code",
   "execution_count": 67,
   "id": "30eecf71",
   "metadata": {},
   "outputs": [],
   "source": [
    "\n",
    "def calc_tour_cost(tour, cost_mtx):\n",
    "    return sum([cost_mtx[tour[i], tour[i+1]] for i in range(len(tour)-1)]) + cost_mtx[tour[0],tour[len(tour)-1]]"
   ]
  },
  {
   "cell_type": "code",
   "execution_count": 5,
   "id": "85635b7c",
   "metadata": {},
   "outputs": [],
   "source": [
    "def plot_tour(tour, coord, title):\n",
    "    \"\"\"\n",
    "    Function for plotting a TSP tour on a 2D figure.\n",
    "\n",
    "    :param tour: The TSP tour, which is a list of nodes.\n",
    "    :param coord: Dictionary of {id: [x, y]} coordinates for each node.\n",
    "    :param title: Plot title.\n",
    "    \"\"\"\n",
    "    \n",
    "    px = [coord[id][0] for id in coord.keys()]\n",
    "    py = [coord[id][1] for id in coord.keys()]\n",
    "\n",
    "    # Set axis too slightly larger than the set of x and y\n",
    "    min_x, max_x, min_y, max_y = min(px), max(px), min(py), max(py)\n",
    "    center_x = (min_x + max_x) / 2\n",
    "    center_y = (min_y + max_y) / 2\n",
    "\n",
    "    width = (max(px) - min(px)) * 1.1\n",
    "    height = (max(py) - min(py)) * 1.1\n",
    "\n",
    "    min_x = center_x - width / 2\n",
    "    max_x = center_x + width / 2\n",
    "    min_y = center_y - height / 2\n",
    "    max_y = center_y + height / 2\n",
    "\n",
    "    plt.xlim(min_x, max_x)\n",
    "    plt.ylim(min_y, max_y)\n",
    "    \n",
    "    # Plot the [px, py] points\n",
    "    for [x, y] in coord.values():\n",
    "        plt.plot(x, y, 'co', markersize = 5)\n",
    "    \n",
    "    # Plot the tour\n",
    "    for i in range(0, len(tour)-1):\n",
    "        [x1, y1], [x2, y2] = coord[tour[i]], coord[tour[i + 1]]\n",
    "        plt.plot([x1, x2], [y1, y2], color = 'c')\n",
    "\n",
    "    plt.title(title)\n",
    "    plt.show()"
   ]
  },
  {
   "cell_type": "code",
   "execution_count": 69,
   "id": "388c0fbd",
   "metadata": {},
   "outputs": [],
   "source": [
    "def create_random_route(tour):\n",
    "    random_tour = random.sample(tour, len(tour))\n",
    "    return random_tour"
   ]
  },
  {
   "cell_type": "code",
   "execution_count": 7,
   "id": "b485f8f7",
   "metadata": {},
   "outputs": [],
   "source": [
    "def initialize_population(size, tour):\n",
    "    population = []\n",
    "    for i in range(0, size):\n",
    "        population.append(create_random_route(tour))\n",
    "    return population"
   ]
  },
  {
   "cell_type": "code",
   "execution_count": 88,
   "id": "f428cf6a",
   "metadata": {},
   "outputs": [],
   "source": [
    "def rank_routes(population, cost_mtx, route_coord):\n",
    "    fitness_results= {}\n",
    "    for i in range(0, len(population)):\n",
    "        fitness_results[i] = calc_tour_cost(population[i], cost_mtx)\n",
    "        #plot_tour(population[i], route_coord, \"tour cost = \" + str(fitness_results[i]))\n",
    "    return sorted(fitness_results.items(), key = operator.itemgetter(1))"
   ]
  },
  {
   "cell_type": "code",
   "execution_count": 23,
   "id": "b78f9947",
   "metadata": {},
   "outputs": [],
   "source": [
    "def parent_selection(ranked_population, size_of_parent_pool):\n",
    "    selections = []\n",
    "    df = pd.DataFrame(np.array(ranked_population), columns = [\"index\",\"fitness\"])\n",
    "    df['cum_sum'] = df.fitness.cumsum()\n",
    "    df['cum_percentage'] = 100 * df.cum_sum/df.fitness.sum()\n",
    "    \n",
    "    for i in range(0, size_of_parent_pool):\n",
    "        selections.append(ranked_population[i][0])\n",
    "    for i in range(0, len(ranked_population)-size_of_parent_pool):\n",
    "        pick = 100 * random.random()\n",
    "        for i in range(0, len(ranked_population)):\n",
    "            if pick <= df.iat[i,3]:\n",
    "                selections.append(ranked_population[i][0])\n",
    "                break\n",
    "    return selections"
   ]
  },
  {
   "cell_type": "code",
   "execution_count": 21,
   "id": "11d21e19",
   "metadata": {},
   "outputs": [],
   "source": [
    "def matingPool(population, selection_results):\n",
    "    matingpool = []\n",
    "    for i in range(0, len(selection_results)):\n",
    "        index = selection_results[i]\n",
    "        matingpool.append(population[index])\n",
    "    return matingpool"
   ]
  },
  {
   "cell_type": "code",
   "execution_count": 75,
   "id": "c197f9bb",
   "metadata": {},
   "outputs": [],
   "source": [
    "def crossover(p1, p2):\n",
    "    child = []\n",
    "    child_p1 = []\n",
    "    child_p2 = []\n",
    "\n",
    "    gene_a = int(random.random()* len(p1))\n",
    "    gene_b = int(random.random()* len(p2))\n",
    "    start_gene = min(gene_a, gene_b)\n",
    "    end_gene = max(gene_a, gene_b)\n",
    "    \n",
    "    for i in range(start_gene, end_gene):\n",
    "        child_p1.append(p1[i])\n",
    "    child_p2 = [item for item in p2 if item not in child_p1]\n",
    "    child = child_p1 + child_p2\n",
    "    return child\n",
    "    "
   ]
  },
  {
   "cell_type": "code",
   "execution_count": 36,
   "id": "2d626340",
   "metadata": {},
   "outputs": [],
   "source": [
    "def create_offsprings(matingpool, eliteSize):\n",
    "    children = []\n",
    "    length = len(matingpool) - eliteSize\n",
    "    pool = random.sample(matingpool, len(matingpool))\n",
    "\n",
    "    for i in range(0,eliteSize):\n",
    "        children.append(matingpool[i])\n",
    "    \n",
    "    for i in range(0, length):\n",
    "        child = crossover(pool[i], pool[len(matingpool)-i-1])\n",
    "        children.append(child)\n",
    "    return children"
   ]
  },
  {
   "cell_type": "code",
   "execution_count": 37,
   "id": "0421df01",
   "metadata": {},
   "outputs": [],
   "source": [
    "def mutate(individual, mutationRate):\n",
    "    for swapped in range(len(individual)):\n",
    "        if(random.random() < mutationRate):\n",
    "            swapWith = int(random.random() * len(individual))\n",
    "            \n",
    "            city1 = individual[swapped]\n",
    "            city2 = individual[swapWith]\n",
    "            \n",
    "            individual[swapped] = city2\n",
    "            individual[swapWith] = city1\n",
    "    return individual"
   ]
  },
  {
   "cell_type": "code",
   "execution_count": 14,
   "id": "52063064",
   "metadata": {},
   "outputs": [],
   "source": [
    "def mutatePopulation(population, mutationRate):\n",
    "    mutatedPop = []\n",
    "    \n",
    "    for ind in range(0, len(population)):\n",
    "        mutatedInd = mutate(population[ind], mutationRate)\n",
    "        mutatedPop.append(mutatedInd)\n",
    "    return mutatedPop"
   ]
  },
  {
   "cell_type": "code",
   "execution_count": 15,
   "id": "e4718f09",
   "metadata": {},
   "outputs": [],
   "source": [
    "def nextGeneration(currentGen, eliteSize, mutationRate, cost_mtx, route_coord):\n",
    "    popRanked = rank_routes(currentGen, cost_mtx, route_coord)\n",
    "    selectionResults = parent_selection(popRanked, eliteSize)\n",
    "    matingpool = matingPool(currentGen, selectionResults)\n",
    "    children = create_offsprings(matingpool, eliteSize)\n",
    "    nextGeneration = mutatePopulation(children, mutationRate)\n",
    "    return nextGeneration"
   ]
  },
  {
   "cell_type": "code",
   "execution_count": 92,
   "id": "c96ff557",
   "metadata": {},
   "outputs": [],
   "source": [
    "def genetic_algorithm(population, popSize, eliteSize, mutationRate, generations, cost_mtx, route_coord):\n",
    "    pop = initialize_population(popSize, population)\n",
    "    print(\"Initial distance: \" + str(rank_routes(pop,cost_mtx,route_coord)[0][1]))\n",
    "    \n",
    "    for i in range(0, generations):\n",
    "        pop = nextGeneration(pop, eliteSize, mutationRate, cost_mtx, route_coord)\n",
    "    \n",
    "    print(\"Final distance: \" + str(rank_routes(pop, cost_mtx, route_coord)[0][1]))\n",
    "    bestRouteIndex = rank_routes(pop,cost_mtx,route_coord)[0][0]\n",
    "    bestRoute = pop[bestRouteIndex]\n",
    "    return bestRoute"
   ]
  },
  {
   "cell_type": "code",
   "execution_count": 111,
   "id": "950ea784",
   "metadata": {},
   "outputs": [],
   "source": [
    "def geneticAlgorithmPlot(population, popSize, eliteSize, mutationRate, generations,cost_mtx, route_coord):\n",
    "    pop = initialize_population(popSize, population)\n",
    "    progress = []\n",
    "    progress.append(rank_routes(pop,cost_mtx,att52_coord)[0][1])\n",
    "    \n",
    "    for i in range(0, generations):\n",
    "        pop = nextGeneration(pop, eliteSize, mutationRate,cost_mtx, route_coord)\n",
    "        progress.append(rank_routes(pop,cost_mtx, route_coord)[0][1])\n",
    "    bestRouteIndex = rank_routes(pop,cost_mtx,route_coord)[0][0]\n",
    "    bestRoute = pop[bestRouteIndex]\n",
    "    plot_tour(bestRoute, route_coord, \"tour cost = \" + str(calc_tour_cost(bestRoute, cost_mtx)))\n",
    "    plt.plot(progress)\n",
    "    plt.ylabel('Distance')\n",
    "    plt.xlabel('Generation')\n",
    "    plt.show()"
   ]
  },
  {
   "cell_type": "code",
   "execution_count": 112,
   "id": "6a6e4360",
   "metadata": {},
   "outputs": [
    {
     "data": {
      "image/png": "[encoded data removed]",
      "text/plain": [
       "<Figure size 432x288 with 1 Axes>"
      ]
     },
     "metadata": {
      "needs_background": "light"
     },
     "output_type": "display_data"
    },
    {
     "data": {
      "image/png": "[encoded data removed]",
      "text/plain": [
       "<Figure size 432x288 with 1 Axes>"
      ]
     },
     "metadata": {
      "needs_background": "light"
     },
     "output_type": "display_data"
    },
    {
     "name": "stdout",
     "output_type": "stream",
     "text": [
      "[(0, 27597.0), (6, 27730.0), (4, 28834.0), (5, 29376.0), (3, 29390.0), (7, 30760.0), (8, 30966.0), (9, 31540.0), (2, 32429.0), (1, 32595.0)]\n"
     ]
    }
   ],
   "source": [
    "att52_coord = load_data(\"berlin52.tsp\")\n",
    "att52_cost_mtx = euclidean_distance_matrix(att52_coord)\n",
    "\n",
    "att52_atour = list(range(1,53))\n",
    "#best_route = genetic_algorithm(att52_atour, 100, 20, 0.01, 500, att52_cost_mtx, att52_coord)\n",
    "geneticAlgorithmPlot(population=att52_atour, popSize=100, eliteSize=20, mutationRate=0.01,\n",
    "                     generations=500, cost_mtx =att52_cost_mtx, route_coord = att52_coord )\n",
    "\n",
    "print(ranked_routes)"
   ]
  },
  {
   "cell_type": "code",
   "execution_count": null,
   "id": "4579e72b",
   "metadata": {},
   "outputs": [],
   "source": []
  }
 ],
 "metadata": {
  "kernelspec": {
   "display_name": "Python 3 (ipykernel)",
   "language": "python",
   "name": "python3"
  },
  "language_info": {
   "codemirror_mode": {
    "name": "ipython",
    "version": 3
   },
   "file_extension": ".py",
   "mimetype": "text/x-python",
   "name": "python",
   "nbconvert_exporter": "python",
   "pygments_lexer": "ipython3",
   "version": "3.10.4"
  }
 },
 "nbformat": 4,
 "nbformat_minor": 5
}
